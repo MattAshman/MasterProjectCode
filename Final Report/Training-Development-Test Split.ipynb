{
 "cells": [
  {
   "cell_type": "code",
   "execution_count": 27,
   "metadata": {},
   "outputs": [],
   "source": [
    "import sys\n",
    "sys.path.insert(0, '/Users/matthewashman/github/MasterProject2018')\n",
    "\n",
    "# Import necessary modules. Set settings. Import data.\n",
    "import numpy as np\n",
    "import pandas as pd\n",
    "import random\n",
    "import matplotlib.pyplot as plt\n",
    "import pywt\n",
    "import math\n",
    "from IPython.display import HTML\n",
    "\n",
    "# For model building\n",
    "from sklearn.model_selection import train_test_split, cross_val_score, GridSearchCV\n",
    "from sklearn.metrics import confusion_matrix, recall_score, make_scorer\n",
    "from sklearn import svm, naive_bayes, neighbors, gaussian_process\n",
    "from sklearn.linear_model import LogisticRegression\n",
    "import xgboost\n",
    "from sklearn.ensemble import RandomForestClassifier\n",
    "from sklearn.gaussian_process.kernels import RBF\n",
    "from scipy.spatial.distance import euclidean\n",
    "from sklearn.decomposition import PCA\n",
    "\n",
    "# For feature extraction\n",
    "from scipy.interpolate import CubicSpline      # for warping\n",
    "from statsmodels.robust import mad\n",
    "from tsfresh.feature_extraction import feature_calculators\n",
    "from FeatureExtraction.feature_tools import detect_peaks\n",
    "from sklearn.utils import resample\n",
    "import fastdtw\n",
    "\n",
    "# Miscelaneous\n",
    "from IPython.display import display, clear_output\n",
    "import pdb\n",
    "\n",
    "plt.style.use('default')\n",
    "\n",
    "X = pd.read_pickle('/Users/matthewashman/github/MasterProject2018/EPDataAnalysis/Final Report/extracted_segments_with_labels_updated_2.pkl')"
   ]
  },
  {
   "cell_type": "code",
   "execution_count": 28,
   "metadata": {},
   "outputs": [
    {
     "name": "stdout",
     "output_type": "stream",
     "text": [
      "(7398, 7)\n",
      "(7174, 7)\n"
     ]
    }
   ],
   "source": [
    "print(X.shape)\n",
    "X = X[~(X['Label']=='-1') & ~(X['Label']=='?')]\n",
    "print(X.shape)"
   ]
  },
  {
   "cell_type": "code",
   "execution_count": 29,
   "metadata": {},
   "outputs": [],
   "source": [
    "# Perform training test split on patients. i.e., 3 af_patients in the test set and 7 in training.\n",
    "af_patients = X[(X['Type']=='af') & (X['S1/S2']=='S2')]['Patient'].unique()\n",
    "at_patients = X[(X['Type']=='at') & (X['S1/S2']=='S2')]['Patient'].unique()\n",
    "avnrt_patients = X[(X['Type']=='avnrt') & (X['S1/S2']=='S2')]['Patient'].unique()\n",
    "avrt_patients = X[(X['Type']=='avrt') & (X['S1/S2']=='S2')]['Patient'].unique()\n",
    "ep_patients = X[(X['Type']=='ep') & (X['S1/S2']=='S2')]['Patient'].unique()\n",
    "\n",
    "af_test_patients = [str(x) for x in range(11, 20)]\n",
    "at_test_patients = ['4']\n",
    "avnrt_test_patients = [str(x) for x in range(23, 37)]\n",
    "avrt_test_patients = [str(x) for x in range(9, 21)]\n",
    "ep_test_patients = [str(x) for x in range(9, 16)]\n",
    "\n",
    "af_train_patients = [x for x in af_patients if x not in af_test_patients]\n",
    "at_train_patients = [x for x in af_patients if x not in at_test_patients]\n",
    "avnrt_train_patients = [x for x in avnrt_patients if x not in avnrt_test_patients]\n",
    "avrt_train_patients = [x for x in avrt_patients if x not in avrt_test_patients]\n",
    "ep_train_patients = [x for x in ep_patients if x not in ep_test_patients]\n",
    "\n",
    "\n",
    "train_af_patients, val_af_patients = train_test_split(af_train_patients, test_size=0.2, random_state=2)\n",
    "train_at_patients, val_at_patients = train_test_split(at_train_patients, test_size=0.2, random_state=3)\n",
    "train_avnrt_patients, val_avnrt_patients = train_test_split(avnrt_train_patients, test_size=0.2, random_state=4)\n",
    "train_avrt_patients, val_avrt_patients = train_test_split(avrt_train_patients, test_size=0.2, random_state=5)\n",
    "train_ep_patients, val_ep_patients = train_test_split(ep_train_patients, test_size=0.2, random_state=6)"
   ]
  },
  {
   "cell_type": "code",
   "execution_count": 30,
   "metadata": {},
   "outputs": [
    {
     "data": {
      "text/plain": [
       "['8', '3', '4', '1', '6', '9', '10']"
      ]
     },
     "execution_count": 30,
     "metadata": {},
     "output_type": "execute_result"
    }
   ],
   "source": [
    "train_af_patients"
   ]
  },
  {
   "cell_type": "code",
   "execution_count": 31,
   "metadata": {},
   "outputs": [],
   "source": [
    "training_data = pd.concat([X[(X['Type']=='af') & ([(x in train_af_patients) for x in X['Patient'].values])],\n",
    "                          X[(X['Type']=='at') & ([(x in train_at_patients) for x in X['Patient'].values])],\n",
    "                          X[(X['Type']=='avnrt') & ([(x in train_avnrt_patients) for x in X['Patient'].values])],\n",
    "                          X[(X['Type']=='avrt') & ([(x in train_avrt_patients) for x in X['Patient'].values])],\n",
    "                          X[(X['Type']=='ep') & ([(x in train_ep_patients) for x in X['Patient'].values])]],\n",
    "                          ignore_index=True)\n",
    "\n",
    "test_data = pd.concat([X[(X['Type']=='af') & ([(x in af_test_patients) for x in X['Patient'].values])],\n",
    "                      X[(X['Type']=='at') & ([(x in at_test_patients) for x in X['Patient'].values])],\n",
    "                      X[(X['Type']=='avnrt') & ([(x in avnrt_test_patients) for x in X['Patient'].values])],\n",
    "                      X[(X['Type']=='avrt') & ([(x in avrt_test_patients) for x in X['Patient'].values])],\n",
    "                      X[(X['Type']=='ep') & ([(x in ep_test_patients) for x in X['Patient'].values])]],\n",
    "                      ignore_index=True)\n",
    "\n",
    "validation_data = pd.concat([X[(X['Type']=='af') & ([(x in val_af_patients) for x in X['Patient'].values])],\n",
    "                             X[(X['Type']=='at') & ([(x in val_at_patients) for x in X['Patient'].values])],\n",
    "                             X[(X['Type']=='avnrt') & ([(x in val_avnrt_patients) for x in X['Patient'].values])],\n",
    "                             X[(X['Type']=='avrt') & ([(x in val_avrt_patients) for x in X['Patient'].values])],\n",
    "                             X[(X['Type']=='ep') & ([(x in val_ep_patients) for x in X['Patient'].values])]],\n",
    "                             ignore_index=True)"
   ]
  },
  {
   "cell_type": "code",
   "execution_count": 32,
   "metadata": {},
   "outputs": [
    {
     "name": "stdout",
     "output_type": "stream",
     "text": [
      "951\n",
      "830\n",
      "246\n"
     ]
    }
   ],
   "source": [
    "print(np.sum((test_data['Label']=='0').astype(int)))\n",
    "print(np.sum((training_data['Label']=='0').astype(int)))\n",
    "print(np.sum((validation_data['Label']=='0').astype(int)))"
   ]
  },
  {
   "cell_type": "code",
   "execution_count": 33,
   "metadata": {},
   "outputs": [
    {
     "name": "stdout",
     "output_type": "stream",
     "text": [
      "['8', '3', '4', '1', '6', '9', '10']\n"
     ]
    }
   ],
   "source": [
    "print(train_af_patients)"
   ]
  },
  {
   "cell_type": "code",
   "execution_count": 34,
   "metadata": {},
   "outputs": [
    {
     "name": "stdout",
     "output_type": "stream",
     "text": [
      "38\n",
      "10\n",
      "33\n"
     ]
    }
   ],
   "source": [
    "print(len(train_at_patients) + len(train_avrt_patients) + len(train_avnrt_patients) + len(train_ep_patients))\n",
    "print(len(val_af_patients) + len(val_avrt_patients) + len(val_avnrt_patients) + len(val_ep_patients))\n",
    "print(len(avrt_test_patients) + len(avnrt_test_patients) + len(ep_test_patients))"
   ]
  },
  {
   "cell_type": "code",
   "execution_count": 35,
   "metadata": {},
   "outputs": [],
   "source": [
    "training_data.to_pickle('/Users/matthewashman/github/MasterProject2018/EPDataAnalysis/Final Report/training_data.pkl')\n",
    "validation_data.to_pickle('/Users/matthewashman/github/MasterProject2018/EPDataAnalysis/Final Report/validation_data.pkl')\n",
    "test_data.to_pickle('/Users/matthewashman/github/MasterProject2018/EPDataAnalysis/Final Report/test_data.pkl')"
   ]
  },
  {
   "cell_type": "code",
   "execution_count": null,
   "metadata": {},
   "outputs": [],
   "source": []
  }
 ],
 "metadata": {
  "kernelspec": {
   "display_name": "Python 3",
   "language": "python",
   "name": "python3"
  },
  "language_info": {
   "codemirror_mode": {
    "name": "ipython",
    "version": 3
   },
   "file_extension": ".py",
   "mimetype": "text/x-python",
   "name": "python",
   "nbconvert_exporter": "python",
   "pygments_lexer": "ipython3",
   "version": "3.6.4"
  }
 },
 "nbformat": 4,
 "nbformat_minor": 2
}
