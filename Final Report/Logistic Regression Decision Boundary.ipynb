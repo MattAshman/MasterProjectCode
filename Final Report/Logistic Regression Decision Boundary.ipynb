{
 "cells": [
  {
   "cell_type": "code",
   "execution_count": 1,
   "metadata": {},
   "outputs": [],
   "source": [
    "import sys\n",
    "sys.path.insert(0, '/Users/matthewashman/github/MasterProject2018')\n",
    "\n",
    "# Import necessary modules. Set settings. Import data.\n",
    "import numpy as np\n",
    "import pandas as pd\n",
    "import matplotlib.pyplot as plt\n",
    "from IPython.display import HTML\n",
    "\n",
    "# For model building\n",
    "from sklearn.linear_model import LogisticRegression\n",
    "from sklearn.preprocessing import StandardScaler\n",
    "\n",
    "# Miscelaneous\n",
    "from IPython.display import display, clear_output\n",
    "import pdb\n",
    "\n",
    "plt.style.use('default')\n",
    "\n",
    "X_train = pd.read_pickle('/Users/matthewashman/github/MasterProject2018/EPDataAnalysis/Final Report/X_train.pkl')\n",
    "X_validation = pd.read_pickle('/Users/matthewashman/github/MasterProject2018/EPDataAnalysis/Final Report/X_validation.pkl')\n",
    "X_train_light_aug = pd.read_pickle('/Users/matthewashman/github/MasterProject2018/EPDataAnalysis/Final Report/X_train_lightly_aug.pkl')\n",
    "X_test = pd.read_pickle('/Users/matthewashman/github/MasterProject2018/EPDataAnalysis/Final Report/X_test.pkl')\n",
    "\n",
    "X_train_raw = pd.read_pickle('/Users/matthewashman/github/MasterProject2018/EPDataAnalysis/Final Report/X_train_raw.pkl')\n",
    "X_validation_raw = pd.read_pickle('/Users/matthewashman/github/MasterProject2018/EPDataAnalysis/Final Report/X_validation_raw.pkl')\n",
    "X_train_light_aug_raw = pd.read_pickle('/Users/matthewashman/github/MasterProject2018/EPDataAnalysis/Final Report/X_train_lightly_aug_raw.pkl')\n",
    "X_test_raw = pd.read_pickle('/Users/matthewashman/github/MasterProject2018/EPDataAnalysis/Final Report/X_test_raw.pkl')"
   ]
  },
  {
   "cell_type": "code",
   "execution_count": 2,
   "metadata": {},
   "outputs": [],
   "source": [
    "X_train_light_aug_red = X_train_light_aug[~((X_train_light_aug['Augmented']==1) & (X_train_light_aug['Label']=='1'))]\n",
    "X_train_light_aug_red_raw = X_train_light_aug_raw[~((X_train_light_aug_raw['Augmented']==1) & (X_train_light_aug_raw['Label']=='1'))]"
   ]
  },
  {
   "cell_type": "code",
   "execution_count": 3,
   "metadata": {},
   "outputs": [],
   "source": [
    "# Isolate feature matrices, target vectors and information for upsampled dataset\n",
    "X_train_ = X_train.drop(['Channel', 'Coupling Interval', 'Data', 'Label', 'Patient', 'Type', 'S1/S2'], axis=1)\n",
    "y_train = X_train['Label'].astype(int)\n",
    "info_train = X_train[['Channel', 'Coupling Interval', 'Data', 'Label', 'Patient', 'Type', 'S1/S2']]\n",
    "\n",
    "X_train_light_aug_ = X_train_light_aug.drop(['Augmented', 'Channel', 'Coupling Interval', 'Data', 'Label', 'Patient', 'Type', 'S1/S2'], axis=1)\n",
    "y_train_light_aug = X_train_light_aug['Label'].astype(int)\n",
    "info_train_light_aug = X_train_light_aug[['Augmented', 'Channel', 'Coupling Interval', 'Data', 'Label', 'Patient', 'Type', 'S1/S2']]\n",
    "\n",
    "X_train_light_aug_red_ = X_train_light_aug_red.drop(['Augmented', 'Channel', 'Coupling Interval', 'Data', 'Label', 'Patient', 'Type', 'S1/S2'], axis=1)\n",
    "y_train_light_aug_red = X_train_light_aug_red['Label'].astype(int)\n",
    "info_train_light_aug_red = X_train_light_aug_red[['Augmented', 'Channel', 'Coupling Interval', 'Data', 'Label', 'Patient', 'Type', 'S1/S2']]\n",
    "\n",
    "X_validation_ = X_validation.drop(['Channel', 'Coupling Interval', 'Data', 'Label', 'Patient', 'Type', 'S1/S2'], axis=1)\n",
    "y_validation = X_validation['Label'].astype(int)\n",
    "info_validation = X_validation[['Channel', 'Coupling Interval', 'Data', 'Label', 'Patient', 'Type', 'S1/S2']]\n",
    "\n",
    "X_test_ = X_test.drop(['Channel', 'Coupling Interval', 'Data', 'Label', 'Patient', 'Type', 'S1/S2'], axis=1)\n",
    "y_test = X_test['Label'].astype(int)\n",
    "info_test = X_test[['Channel', 'Coupling Interval', 'Data', 'Label', 'Patient', 'Type', 'S1/S2']]"
   ]
  },
  {
   "cell_type": "code",
   "execution_count": 4,
   "metadata": {},
   "outputs": [],
   "source": [
    "# Isolate feature matrices, target vectors and information for upsampled dataset\n",
    "X_train_raw_ = X_train_raw.drop(['Channel', 'Coupling Interval', 'Data', 'Label', 'Patient', 'Type', 'S1/S2'], axis=1)\n",
    "y_train_raw = X_train_raw['Label'].astype(int)\n",
    "info_train_raw = X_train_raw[['Channel', 'Coupling Interval', 'Data', 'Label', 'Patient', 'Type', 'S1/S2']]\n",
    "\n",
    "X_train_light_aug_raw_ = X_train_light_aug_raw.drop(['Augmented', 'Channel', 'Coupling Interval', 'Data', 'Label', 'Patient', 'Type', 'S1/S2'], axis=1)\n",
    "y_train_light_aug_raw = X_train_light_aug_raw['Label'].astype(int)\n",
    "info_train_light_aug_raw = X_train_light_aug_raw[['Augmented', 'Channel', 'Coupling Interval', 'Data', 'Label', 'Patient', 'Type', 'S1/S2']]\n",
    "\n",
    "X_train_light_aug_red_raw_ = X_train_light_aug_red_raw.drop(['Augmented', 'Channel', 'Coupling Interval', 'Data', 'Label', 'Patient', 'Type', 'S1/S2'], axis=1)\n",
    "y_train_light_aug_red_raw = X_train_light_aug_red_raw['Label'].astype(int)\n",
    "info_train_light_aug_red_raw = X_train_light_aug_red_raw[['Augmented', 'Channel', 'Coupling Interval', 'Data', 'Label', 'Patient', 'Type', 'S1/S2']]\n",
    "\n",
    "X_validation_raw_ = X_validation_raw.drop(['Channel', 'Coupling Interval', 'Data', 'Label', 'Patient', 'Type', 'S1/S2'], axis=1)\n",
    "y_validation_raw = X_validation_raw['Label'].astype(int)\n",
    "info_validation_raw = X_validation_raw[['Channel', 'Coupling Interval', 'Data', 'Label', 'Patient', 'Type', 'S1/S2']]\n",
    "\n",
    "X_test_raw_ = X_test_raw.drop(['Channel', 'Coupling Interval', 'Data', 'Label', 'Patient', 'Type', 'S1/S2'], axis=1)\n",
    "y_test_raw = X_test_raw['Label'].astype(int)\n",
    "info_test_raw = X_test_raw[['Channel', 'Coupling Interval', 'Data', 'Label', 'Patient', 'Type', 'S1/S2']]"
   ]
  },
  {
   "cell_type": "code",
   "execution_count": 5,
   "metadata": {},
   "outputs": [],
   "source": [
    "X_train_raw_.columns = [str(col) + ' Raw' for col in X_train_raw_.columns]\n",
    "X_train_light_aug_raw_.columns = [str(col) + ' Raw' for col in X_train_light_aug_raw_.columns]\n",
    "X_train_light_aug_red_raw_.columns = [str(col) + ' Raw' for col in X_train_light_aug_red_raw_.columns]\n",
    "X_validation_raw_.columns = [str(col) + ' Raw' for col in X_validation_raw_.columns]\n",
    "X_test_raw_.columns = [str(col) + ' Raw' for col in X_test_raw_.columns]\n",
    "\n",
    "X_train_combined = pd.concat([X_train_, X_train_raw_.drop(['DTW Distance Raw'], axis=1)], axis=1)\n",
    "X_train_light_aug_combined = pd.concat([X_train_light_aug_, X_train_light_aug_raw_.drop(['DTW Distance Raw'], axis=1)], axis=1)\n",
    "X_train_light_aug_red_combined = pd.concat([X_train_light_aug_red_, X_train_light_aug_red_raw_.drop(['DTW Distance Raw'], axis=1)], axis=1)\n",
    "X_validation_combined = pd.concat([X_validation_, X_validation_raw_.drop(['DTW Distance Raw'], axis=1)], axis=1)\n",
    "X_test_combined = pd.concat([X_test_, X_test_raw_.drop(['DTW Distance Raw'], axis=1)], axis=1)"
   ]
  },
  {
   "cell_type": "code",
   "execution_count": 6,
   "metadata": {},
   "outputs": [],
   "source": [
    "#Best features\n",
    "best_features=['DTW Distance', 'Ratio Above 1xSTD', 'Sample Entropy Around Max Energy',\n",
    "               'Width of Maximum Energy', 'Mean Absolute Value Raw',\n",
    "               'Number of Peaks Raw', 'Ratio Above 1xSTD Raw',\n",
    "               'Sample Entropy Around Max Energy Raw']\n",
    "\n",
    "aug_scaler = StandardScaler()\n",
    "scaler = StandardScaler()\n",
    "\n",
    "X_aug = aug_scaler.fit_transform(X_train_light_aug_red_combined[best_features].values)\n",
    "y_aug = y_train_light_aug_red.values\n",
    "\n",
    "X = scaler.fit_transform(X_train_combined[best_features].values)\n",
    "y = y_train.values\n",
    "\n",
    "X_val_a = aug_scaler.fit(X_validation_combined[best_features].values)\n",
    "X_val = scaler.fit(X_validation_combined[best_features].values)\n",
    "y_val = y_validation.values"
   ]
  },
  {
   "cell_type": "code",
   "execution_count": 7,
   "metadata": {},
   "outputs": [],
   "source": [
    "model = LogisticRegression(penalty='l2', C=1, random_state=0, solver='lbfgs', multi_class='multinomial', \n",
    "                           class_weight='balanced')\n",
    "clf_aug = model.fit(X_aug, y_aug)\n",
    "clf = model.fit(X, y)"
   ]
  },
  {
   "cell_type": "code",
   "execution_count": 48,
   "metadata": {},
   "outputs": [],
   "source": [
    "xx = np.zeros([100, 8])\n",
    "for i in range(8):\n",
    "    xx[:,i] = np.linspace(-1, 1, 100)"
   ]
  },
  {
   "cell_type": "code",
   "execution_count": 10,
   "metadata": {},
   "outputs": [],
   "source": [
    "xx = np.mgrid[-1:1:.2, -1:1:.2, -1:1:0.2, -1:1:0.2, -1:1:0.2, -1:1:0.2, -1:1:0.2, -1:1:0.2]"
   ]
  },
  {
   "cell_type": "code",
   "execution_count": 11,
   "metadata": {},
   "outputs": [
    {
     "data": {
      "text/plain": [
       "(8, 10, 10, 10, 10, 10, 10, 10, 10)"
      ]
     },
     "execution_count": 11,
     "metadata": {},
     "output_type": "execute_result"
    }
   ],
   "source": [
    "xx.shape"
   ]
  },
  {
   "cell_type": "code",
   "execution_count": null,
   "metadata": {},
   "outputs": [],
   "source": [
    "grid = np.c_[xx]"
   ]
  },
  {
   "cell_type": "code",
   "execution_count": null,
   "metadata": {},
   "outputs": [],
   "source": []
  }
 ],
 "metadata": {
  "kernelspec": {
   "display_name": "Python 3",
   "language": "python",
   "name": "python3"
  },
  "language_info": {
   "codemirror_mode": {
    "name": "ipython",
    "version": 3
   },
   "file_extension": ".py",
   "mimetype": "text/x-python",
   "name": "python",
   "nbconvert_exporter": "python",
   "pygments_lexer": "ipython3",
   "version": "3.6.4"
  }
 },
 "nbformat": 4,
 "nbformat_minor": 2
}
